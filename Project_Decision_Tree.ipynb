{
  "nbformat": 4,
  "nbformat_minor": 0,
  "metadata": {
    "colab": {
      "provenance": []
    },
    "kernelspec": {
      "name": "python3",
      "display_name": "Python 3"
    },
    "language_info": {
      "name": "python"
    }
  },
  "cells": [
    {
      "cell_type": "markdown",
      "source": [
        "Project- Decision Tree\n",
        "\n",
        "This is a simple project in which the decision tree algorithm has been implemented and the no. of accurate predictions are determined with the help of confusion matrix.\n",
        "\n",
        "The following dataset is used: https://www.kaggle.com/datasets/erscodingzone/user-datacsv\n",
        "\n"
      ],
      "metadata": {
        "id": "reyCvpJ_ddk-"
      }
    },
    {
      "cell_type": "code",
      "source": [
        "import pandas as pd\n",
        "data=pd.read_csv('/content/User_Data.csv')\n",
        "df=data.copy()\n",
        "\n",
        "#Extracting the independent and the dependent variables\n",
        "x=df.iloc[:,[2,3]].values\n",
        "y=df.iloc[:,4].values\n",
        "\n",
        "#splitting into the training and testing data\n",
        "from sklearn import model_selection\n",
        "x_train, x_test, y_train, y_test= model_selection.train_test_split(x,y, random_state=0)\n",
        "\n",
        "#performing the feature scaling\n",
        "from sklearn import preprocessing\n",
        "scaler=preprocessing.StandardScaler()\n",
        "x_train=scaler.fit_transform(x_train)\n",
        "x_test=scaler.transform(x_test)\n"
      ],
      "metadata": {
        "id": "oYDXOJNLdfWq"
      },
      "execution_count": 1,
      "outputs": []
    },
    {
      "cell_type": "code",
      "source": [
        "#Fitting the Decision tree classifier\n",
        "from sklearn.tree import DecisionTreeClassifier\n",
        "from sklearn.tree import export_graphviz\n",
        "classifier=DecisionTreeClassifier(criterion='entropy', random_state=0)\n",
        "classifier.fit(x_train, y_train)"
      ],
      "metadata": {
        "colab": {
          "base_uri": "https://localhost:8080/"
        },
        "id": "LwpJaCPXeOu8",
        "outputId": "92538465-d55d-4096-d83f-ab078a97c4aa"
      },
      "execution_count": 2,
      "outputs": [
        {
          "output_type": "execute_result",
          "data": {
            "text/plain": [
              "DecisionTreeClassifier(criterion='entropy', random_state=0)"
            ]
          },
          "metadata": {},
          "execution_count": 2
        }
      ]
    },
    {
      "cell_type": "code",
      "source": [
        "#predicting the result\n",
        "y_pred= classifier.predict(x_test)\n"
      ],
      "metadata": {
        "id": "ZC9-4tnWl5cA"
      },
      "execution_count": 3,
      "outputs": []
    },
    {
      "cell_type": "code",
      "source": [
        "#creating the confusion_matrix\n",
        "from sklearn.metrics import confusion_matrix\n",
        "cm=confusion_matrix(y_test, y_pred)\n",
        "cm"
      ],
      "metadata": {
        "colab": {
          "base_uri": "https://localhost:8080/"
        },
        "id": "_m6xX0dMmgUF",
        "outputId": "f5d1d860-4d31-49dd-d890-1824bcf5309b"
      },
      "execution_count": 4,
      "outputs": [
        {
          "output_type": "execute_result",
          "data": {
            "text/plain": [
              "array([[62,  6],\n",
              "       [ 3, 29]])"
            ]
          },
          "metadata": {},
          "execution_count": 4
        }
      ]
    },
    {
      "cell_type": "code",
      "source": [
        "import pydotplus\n",
        "dot_data=export_graphviz(classifier)\n",
        "graph=pydotplus.graph_from_dot_data(dot_data)\n",
        "graph.write_pdf(\"df.pdf\")\n"
      ],
      "metadata": {
        "colab": {
          "base_uri": "https://localhost:8080/"
        },
        "id": "ffndXUsNnHXR",
        "outputId": "b4066d28-563f-45c2-a913-8fc74ce9eca9"
      },
      "execution_count": 5,
      "outputs": [
        {
          "output_type": "execute_result",
          "data": {
            "text/plain": [
              "True"
            ]
          },
          "metadata": {},
          "execution_count": 5
        }
      ]
    },
    {
      "cell_type": "code",
      "source": [],
      "metadata": {
        "id": "yJrsNDHSqizR"
      },
      "execution_count": 5,
      "outputs": []
    }
  ]
}